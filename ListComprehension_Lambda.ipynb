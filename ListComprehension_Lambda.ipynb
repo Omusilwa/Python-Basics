{
 "cells": [
  {
   "cell_type": "markdown",
   "id": "62b8a646-3368-4d1a-b1f1-1db81fdaa2c0",
   "metadata": {},
   "source": [
    "# **Basics of List Comprehension:**\n",
    "\n",
    "- How to create a list while writing more elegant code, Easy to read\n",
    "- Can be implemented using diffrent instances"
   ]
  },
  {
   "cell_type": "code",
   "execution_count": 2,
   "id": "b42efef7-a8c6-41dd-be8e-0520c93f7d7d",
   "metadata": {
    "tags": []
   },
   "outputs": [
    {
     "data": {
      "text/plain": [
       "[0, 1, 2, 3, 4, 5, 6, 7, 8, 9, 10]"
      ]
     },
     "execution_count": 2,
     "metadata": {},
     "output_type": "execute_result"
    }
   ],
   "source": [
    "# create a list using for loop (store integers from 0 - 10)\n",
    "list_1 = []\n",
    "\n",
    "for num in range(11):\n",
    "    list_1.append(num)\n",
    "\n",
    "list_1"
   ]
  },
  {
   "cell_type": "code",
   "execution_count": 3,
   "id": "df3d5968-7d95-42b4-b484-bacc47b005d6",
   "metadata": {
    "tags": []
   },
   "outputs": [
    {
     "name": "stdout",
     "output_type": "stream",
     "text": [
      "Even Nuumbers:[0, 2, 4, 6, 8, 10],and Odd Numbers:[1, 3, 5, 7, 9]\n"
     ]
    }
   ],
   "source": [
    "# creating even and odd lists using for loop\n",
    "list_2 = [0, 1, 2, 3, 4, 5, 6, 7, 8, 9, 10]\n",
    "\n",
    "even_list = []\n",
    "odd_list = []\n",
    "\n",
    "for num in list_2:\n",
    "    if num % 2 == 0:\n",
    "        even_list.append(num)\n",
    "    else:\n",
    "        odd_list.append(num)\n",
    "\n",
    "print(f\"Even Nuumbers:{even_list},and Odd Numbers:{odd_list}\")"
   ]
  },
  {
   "cell_type": "markdown",
   "id": "0b311554-8524-4a3c-a00a-ecd0f69ca6a3",
   "metadata": {},
   "source": [
    "**List Comprehension:** More simple way to write above examples. Allow manupilation, modification and Calculation on every single item in the list, all at once.\n",
    "\n",
    "`new_list = [expression for variable iteration]`"
   ]
  },
  {
   "cell_type": "code",
   "execution_count": 5,
   "id": "dd4101f5-c913-4a04-9ceb-107b55455e75",
   "metadata": {
    "tags": []
   },
   "outputs": [
    {
     "data": {
      "text/plain": [
       "[0, 2, 4, 6, 8]"
      ]
     },
     "execution_count": 5,
     "metadata": {},
     "output_type": "execute_result"
    }
   ],
   "source": [
    "# create a list of integers from 0 to 4.\n",
    "my_list = [num*2 for num in range(5)]\n",
    "my_list"
   ]
  },
  {
   "cell_type": "markdown",
   "id": "3ddf8bc0-fefc-4914-b83b-a92c7bf07690",
   "metadata": {},
   "source": [
    "`new_list = [expression for variable in iterable if condition == True]`"
   ]
  },
  {
   "cell_type": "code",
   "execution_count": 7,
   "id": "6e4ee11d-9de7-4f26-8646-c6a35bdb792a",
   "metadata": {
    "tags": []
   },
   "outputs": [
    {
     "data": {
      "text/plain": [
       "[0, 2, 4, 6]"
      ]
     },
     "execution_count": 7,
     "metadata": {},
     "output_type": "execute_result"
    }
   ],
   "source": [
    "# create a list of even number between 0 throgh 7\n",
    "even_list =[num for num in range(7) if num % 2 == 0]\n",
    "even_list"
   ]
  },
  {
   "cell_type": "markdown",
   "id": "79ce1f72-9fc9-448d-9686-49fb41d7ac7a",
   "metadata": {},
   "source": [
    "**Example:**\n",
    "\n",
    "Write a program that reads a list of integers then computes the alternating sum of all items in the List."
   ]
  },
  {
   "cell_type": "code",
   "execution_count": 9,
   "id": "e25dced3-4884-4d4f-b9dd-230f7edf01e7",
   "metadata": {
    "tags": []
   },
   "outputs": [
    {
     "name": "stdout",
     "output_type": "stream",
     "text": [
      "Alternate Sum: -2\n"
     ]
    }
   ],
   "source": [
    "# value list\n",
    "list_num = [1, 4, 9, 16, 9, 7, 4 ,9, 11]\n",
    "\n",
    "# compute to find alternate sum\n",
    "computed_list = sum([list_num[i] * (-1)** i for i in range(len(list_num))])\n",
    "\n",
    "# print the output\n",
    "print(f\"Alternate Sum: {computed_list}\")"
   ]
  },
  {
   "cell_type": "markdown",
   "id": "941c8528-d93b-466f-a11b-a3596656b8ee",
   "metadata": {},
   "source": [
    "**Example 2:**\n",
    "\n",
    "Using List comprehension computes the standard deviation of `𝑁` real numbers. The standard deviation `𝑠` is computed according to the following formula:\n",
    "\n",
    "                          `s=√(((x_1-x ̅ )^2+(x_2-x ̅ )^2+⋯+(x_N-x ̅ )^2)/N)`\n",
    "\n",
    "The variable `x ̅ `is the average of `𝑁` input values from `x_1` to `x_N`. \n",
    "input `𝑁` as a list of intergers and then declares an array of size `𝑁`. After that, it calculates `𝑠` by using this equation and shows the result on the screen. \n",
    "You are not allowed to use Python functions for mean or standard deviation."
   ]
  },
  {
   "cell_type": "code",
   "execution_count": 11,
   "id": "5317bdf5-f1cd-48d8-b542-faa6e8335c84",
   "metadata": {
    "tags": []
   },
   "outputs": [
    {
     "name": "stdout",
     "output_type": "stream",
     "text": [
      ">>Standard Deviation<<\n",
      "Mean:86.42857142857143\n",
      "Standard Deviation:0.9035079029052513\n"
     ]
    }
   ],
   "source": [
    "# list if values\n",
    "list_values = [86, 87, 88, 86, 87, 85, 86]\n",
    "\n",
    "# calculate mean value (x ̅ )\n",
    "mean_value = sum(list_values)/len(list_values)\n",
    "\n",
    "# calculate value variance: (x_1-x ̅ )^2+(x_2-x ̅ )^2\n",
    "value_var = sum([(val - mean_value)**2 for val in list_values])/len(list_values)\n",
    "\n",
    "# calculate std\n",
    "value_std = value_var**0.5\n",
    "print(f\">>Standard Deviation<<\\nMean:{mean_value}\\nStandard Deviation:{value_std}\")"
   ]
  },
  {
   "cell_type": "markdown",
   "id": "1725b02d-9478-40bd-8eb5-e40f40d12d17",
   "metadata": {},
   "source": [
    "# **Basics of Lambda Function:**\n",
    "\n",
    "- Is  a user-defined function, commonly referred to as anonymous functions\n",
    "- Effecient to create simple expressions, usally with a single line of statement.\n",
    "- Useful when you want to use the function once.\n",
    "- Does not have return keyword, because it automatically return the result once function is executed\n",
    "\n",
    "`lambda argument(s): expression`\n",
    "\n",
    "`Lambda` - Keyword,\n",
    "\n",
    "`argument(s)` - a variable to hold the value to be passed into the fuction, \n",
    "\n",
    "`expression` - code to be executed in lambda function \n",
    "\n",
    "\n",
    "### **Common use Cases for Lambda function**"
   ]
  },
  {
   "cell_type": "markdown",
   "id": "dd35391f-11d0-4a73-ab27-2ea849950e72",
   "metadata": {},
   "source": [
    "##### **1. Sorting with Custom Keys**"
   ]
  },
  {
   "cell_type": "code",
   "execution_count": 14,
   "id": "5502c2f3-2ac5-4802-ac32-5d58ad0922a2",
   "metadata": {
    "tags": []
   },
   "outputs": [
    {
     "data": {
      "text/plain": [
       "['Job', 'Peter', 'Charlie', 'Elizabeth']"
      ]
     },
     "execution_count": 14,
     "metadata": {},
     "output_type": "execute_result"
    }
   ],
   "source": [
    "names = [\"Elizabeth\",\"Peter\",\"Job\",\"Charlie\"]\n",
    "sorted_names = sorted(names, key = lambda x:len(x))\n",
    "sorted_names"
   ]
  },
  {
   "cell_type": "markdown",
   "id": "8f8d21af-a6dd-46ae-919e-d9495f85ede7",
   "metadata": {},
   "source": [
    "##### **2. Using with `map()`**"
   ]
  },
  {
   "cell_type": "code",
   "execution_count": 16,
   "id": "c1b12f23-c5f1-4236-91e8-d82e7b3e4193",
   "metadata": {
    "tags": []
   },
   "outputs": [
    {
     "data": {
      "text/plain": [
       "[1, 4, 9, 16, 25]"
      ]
     },
     "execution_count": 16,
     "metadata": {},
     "output_type": "execute_result"
    }
   ],
   "source": [
    "numbers = [1,2,3,4,5]\n",
    "squared = list(map(lambda x: x**2, numbers))\n",
    "squared"
   ]
  },
  {
   "cell_type": "markdown",
   "id": "cf9ea583-c2f1-4a04-928a-e427641b3917",
   "metadata": {},
   "source": [
    "##### **3.Using with `filter()`**"
   ]
  },
  {
   "cell_type": "code",
   "execution_count": 18,
   "id": "9d14e198-02b9-4ab0-ab57-c966d3a87176",
   "metadata": {
    "tags": []
   },
   "outputs": [
    {
     "data": {
      "text/plain": [
       "[0, 2, 4, 6, 8, 10]"
      ]
     },
     "execution_count": 18,
     "metadata": {},
     "output_type": "execute_result"
    }
   ],
   "source": [
    "my_list = [0, 1, 2, 3, 4, 5, 6, 7, 8, 9, 10]\n",
    "even_list = list(filter(lambda x: x % 2 == 0,my_list))\n",
    "even_list"
   ]
  },
  {
   "cell_type": "markdown",
   "id": "80617b86-a6be-408d-a089-44ef9824cb9c",
   "metadata": {},
   "source": [
    "##### **4. Conditional logic in expressions**"
   ]
  },
  {
   "cell_type": "code",
   "execution_count": 20,
   "id": "86b745d4-d871-4973-ae49-1a3afc3d4cdf",
   "metadata": {
    "tags": []
   },
   "outputs": [
    {
     "name": "stdout",
     "output_type": "stream",
     "text": [
      "Maximum Score:90\n"
     ]
    }
   ],
   "source": [
    "scores = [88,72,49,50,90,35]\n",
    "max_score = max(map(lambda x: x if x >= 50 else 0, scores))\n",
    "print(f\"Maximum Score:{max_score}\")"
   ]
  },
  {
   "cell_type": "markdown",
   "id": "1732242a-c52f-4f6d-91f9-fa09125e34ee",
   "metadata": {},
   "source": [
    "##### **5. Using in Pandas(DataFrames)**"
   ]
  },
  {
   "cell_type": "code",
   "execution_count": 22,
   "id": "29e8c1b4-b223-4259-bafb-d3431eea1fae",
   "metadata": {
    "tags": []
   },
   "outputs": [
    {
     "data": {
      "text/html": [
       "<div>\n",
       "<style scoped>\n",
       "    .dataframe tbody tr th:only-of-type {\n",
       "        vertical-align: middle;\n",
       "    }\n",
       "\n",
       "    .dataframe tbody tr th {\n",
       "        vertical-align: top;\n",
       "    }\n",
       "\n",
       "    .dataframe thead th {\n",
       "        text-align: right;\n",
       "    }\n",
       "</style>\n",
       "<table border=\"1\" class=\"dataframe\">\n",
       "  <thead>\n",
       "    <tr style=\"text-align: right;\">\n",
       "      <th></th>\n",
       "      <th>Students</th>\n",
       "      <th>Scores</th>\n",
       "      <th>Category</th>\n",
       "    </tr>\n",
       "  </thead>\n",
       "  <tbody>\n",
       "    <tr>\n",
       "      <th>0</th>\n",
       "      <td>Elizabeth</td>\n",
       "      <td>88</td>\n",
       "      <td>Pass</td>\n",
       "    </tr>\n",
       "    <tr>\n",
       "      <th>1</th>\n",
       "      <td>Peter</td>\n",
       "      <td>72</td>\n",
       "      <td>Pass</td>\n",
       "    </tr>\n",
       "    <tr>\n",
       "      <th>2</th>\n",
       "      <td>Job</td>\n",
       "      <td>49</td>\n",
       "      <td>Fail</td>\n",
       "    </tr>\n",
       "    <tr>\n",
       "      <th>3</th>\n",
       "      <td>Charlie</td>\n",
       "      <td>50</td>\n",
       "      <td>Pass</td>\n",
       "    </tr>\n",
       "    <tr>\n",
       "      <th>4</th>\n",
       "      <td>John</td>\n",
       "      <td>90</td>\n",
       "      <td>Pass</td>\n",
       "    </tr>\n",
       "    <tr>\n",
       "      <th>5</th>\n",
       "      <td>Doe</td>\n",
       "      <td>35</td>\n",
       "      <td>Fail</td>\n",
       "    </tr>\n",
       "  </tbody>\n",
       "</table>\n",
       "</div>"
      ],
      "text/plain": [
       "    Students  Scores Category\n",
       "0  Elizabeth      88     Pass\n",
       "1      Peter      72     Pass\n",
       "2        Job      49     Fail\n",
       "3    Charlie      50     Pass\n",
       "4       John      90     Pass\n",
       "5        Doe      35     Fail"
      ]
     },
     "execution_count": 22,
     "metadata": {},
     "output_type": "execute_result"
    }
   ],
   "source": [
    "import pandas as pd\n",
    "\n",
    "df = pd.DataFrame(\n",
    "        {\"Students\":[\"Elizabeth\",\"Peter\",\"Job\",\"Charlie\",\"John\",\"Doe\"],\n",
    "         \"Scores\":[88,72,49,50,90,35]})\n",
    "df[\"Category\"] = df[\"Scores\"].apply(lambda X: \"Pass\" if X >= 50  else \"Fail\")\n",
    "df"
   ]
  },
  {
   "cell_type": "code",
   "execution_count": null,
   "id": "7b980d1f-95b4-475f-b3ac-5825528967cf",
   "metadata": {},
   "outputs": [],
   "source": []
  }
 ],
 "metadata": {
  "kernelspec": {
   "display_name": "Python 3 (ipykernel)",
   "language": "python",
   "name": "python3"
  },
  "language_info": {
   "codemirror_mode": {
    "name": "ipython",
    "version": 3
   },
   "file_extension": ".py",
   "mimetype": "text/x-python",
   "name": "python",
   "nbconvert_exporter": "python",
   "pygments_lexer": "ipython3",
   "version": "3.11.7"
  }
 },
 "nbformat": 4,
 "nbformat_minor": 5
}
